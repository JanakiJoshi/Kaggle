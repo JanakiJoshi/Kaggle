{
 "cells": [
  {
   "cell_type": "markdown",
   "metadata": {},
   "source": [
    "### Quick Notes on Logistic Regression\n",
    "* Logistic regression is used for predicting discrete values, classification\n",
    "* There are 3 types - binary (2 class prediction), multinomial (multi-class without ordering) and ordinal (multi-class with ordering)\n",
    "* Convex loss function aka logistic loss:\n",
    "    $$cost = -y * log(y') - (1-y) * log(1-y')$$\n",
    "* It uses sigmoid and therefore always predicts between 0 and 1."
   ]
  },
  {
   "cell_type": "code",
   "execution_count": 26,
   "metadata": {},
   "outputs": [],
   "source": [
    "import pandas as pd\n",
    "from sklearn.linear_model import LogisticRegression\n",
    "import numpy as np\n",
    "import matplotlib.pyplot as plt"
   ]
  },
  {
   "cell_type": "code",
   "execution_count": 12,
   "metadata": {},
   "outputs": [],
   "source": [
    "# Load training and testing data\n",
    "\n",
    "train_df = pd.read_csv(\"../input/train.csv\")\n",
    "test_df = pd.read_csv(\"../input/test.csv\")"
   ]
  },
  {
   "cell_type": "code",
   "execution_count": 15,
   "metadata": {},
   "outputs": [],
   "source": [
    "# Split training data to features and label\n",
    "\n",
    "y_train = train_df['label']\n",
    "X_train = train_df.drop(columns = ['label'])"
   ]
  },
  {
   "cell_type": "code",
   "execution_count": 17,
   "metadata": {},
   "outputs": [],
   "source": [
    "# Normalize features\n",
    "\n",
    "X_train /= 255.0\n",
    "test_df /= 255.0"
   ]
  },
  {
   "cell_type": "code",
   "execution_count": 31,
   "metadata": {},
   "outputs": [],
   "source": [
    "X_train_plt = X_train.values.reshape(X_train.shape[0], 28, 28, 1)\n",
    "test_plt = test_df.values.reshape(test_df.shape[0], 28, 28, 1)"
   ]
  },
  {
   "cell_type": "code",
   "execution_count": 35,
   "metadata": {},
   "outputs": [
    {
     "data": {
      "text/plain": [
       "LogisticRegression(max_iter=1500)"
      ]
     },
     "execution_count": 35,
     "metadata": {},
     "output_type": "execute_result"
    }
   ],
   "source": [
    "# Logistic regression model\n",
    "\n",
    "logisticRegr = LogisticRegression(solver = \"lbfgs\", max_iter = 1500)\n",
    "logisticRegr.fit(X_train, y_train)"
   ]
  },
  {
   "cell_type": "code",
   "execution_count": 40,
   "metadata": {},
   "outputs": [
    {
     "data": {
      "image/png": "[encoded data removed]",
      "text/plain": [
       "<Figure size 864x720 with 5 Axes>"
      ]
     },
     "metadata": {
      "needs_background": "light"
     },
     "output_type": "display_data"
    }
   ],
   "source": [
    "# Predict on one\n",
    "\n",
    "predict_5 = logisticRegr.predict(test_df[0:5])\n",
    "\n",
    "plt.figure(figsize=(12, 10))\n",
    "\n",
    "for img in range(5):\n",
    "    plt.subplot(5, 5, img+1)\n",
    "    plt.imshow(test_plt[img].reshape((28, 28)), cmap='binary_r')\n",
    "    plt.axis('off')\n",
    "    plt.title('Label: ' + str(predict_5[img]))#train_y_df[img].astype('str'))\n",
    "plt.show()"
   ]
  }
 ],
 "metadata": {
  "kernelspec": {
   "display_name": "Python 3",
   "language": "python",
   "name": "python3"
  },
  "language_info": {
   "codemirror_mode": {
    "name": "ipython",
    "version": 3
   },
   "file_extension": ".py",
   "mimetype": "text/x-python",
   "name": "python",
   "nbconvert_exporter": "python",
   "pygments_lexer": "ipython3",
   "version": "3.6.4"
  }
 },
 "nbformat": 4,
 "nbformat_minor": 4
}
